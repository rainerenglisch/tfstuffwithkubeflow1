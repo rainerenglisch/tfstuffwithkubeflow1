{
 "cells": [
  {
   "cell_type": "code",
   "execution_count": null,
   "metadata": {},
   "outputs": [],
   "source": [
    "from notebook.services.config import ConfigManager\n",
    "cm = ConfigManager().update('notebook', {'limit_output': 1000})"
   ]
  },
  {
   "cell_type": "code",
   "execution_count": null,
   "metadata": {},
   "outputs": [],
   "source": [
    "%%bash\n",
    "cd ..\n",
    "rm -r models\n",
    "rm -r TF_obj_detection_original\n",
    "echo \"Cleaned\""
   ]
  },
  {
   "cell_type": "code",
   "execution_count": null,
   "metadata": {},
   "outputs": [],
   "source": [
    "!pip install tensorflow\n",
    "!pip install pillow\n",
    "!pip install lxml\n",
    "!pip install Cython\n",
    "!pip install jupyter\n",
    "!pip install matplotlib\n",
    "!pip install pandas\n",
    "!pip install opencv-python"
   ]
  },
  {
   "cell_type": "code",
   "execution_count": null,
   "metadata": {},
   "outputs": [],
   "source": [
    "%%bash\n",
    "cd ..\n",
    "mkdir TF_obj_detection_original\n",
    "#!mkdir TF_obj_detection_original/models\n",
    "#!mkdir TF_obj_detection_original/models/research\n",
    "#!mkdir TF_obj_detection_original/models/research/object_detection"
   ]
  },
  {
   "cell_type": "code",
   "execution_count": null,
   "metadata": {},
   "outputs": [],
   "source": [
    "%%bash\n",
    "\n",
    "#5. Clone Object Detection API repository from GitHub https://github.com/tensorflow/models (here C:\\TF_obj_detection_original\\models)\n",
    "cd ..\n",
    "git clone https://github.com/tensorflow/models.git\n",
    "cp -r  ./models ./TF_obj_detection_original\n",
    "rm -r -f ./models\n",
    "#!ln -s ./models ./TF_obj_detection_original/models"
   ]
  },
  {
   "cell_type": "code",
   "execution_count": null,
   "metadata": {},
   "outputs": [],
   "source": [
    "#7. Download a pre-trained object detection models from the tensorflow model zoo git reposit.\n",
    "#Once the desired model is downloaded extract its contents to C:\\TF_obj_detection_original\\models\\research\\object_detection\n",
    "\n",
    "#!wget https://github.com/tensorflow/models/blob/master/research/object_detection/g3doc/detection_model_zoo.md\n",
    "#!wget https://github.com/tensorflow/models/blob/master/research/object_detection/g3doc/detection_model_zoo.md -p ./TF_obj_detection_original/models/research/object_detection"
   ]
  },
  {
   "cell_type": "code",
   "execution_count": null,
   "metadata": {},
   "outputs": [],
   "source": [
    "%%bash\n",
    "#8. Download the full repository located on this page (scroll to the top and click Clone or Download) and \n",
    "# extract all the contents directly into the C:\\TF_obj_detection_original\\models\\research\\object_detection directory. (You can overwrite the existing “README.md” file.)\n",
    "cd ..\n",
    "git clone https://github.com/EdjeElectronics/TensorFlow-Object-Detection-API-Tutorial-Train-Multiple-Objects-Windows-10.git\n",
    "cp --recursive  -v ./TensorFlow-Object-Detection-API-Tutorial-Train-Multiple-Objects-Windows-10/* ./TF_obj_detection_original/models/research/object_detection\n",
    "rm --recursive -f ./TensorFlow-Object-Detection-API-Tutorial-Train-Multiple-Objects-Windows-10"
   ]
  },
  {
   "cell_type": "code",
   "execution_count": null,
   "metadata": {},
   "outputs": [],
   "source": [
    "%%bash\n",
    "#Prepare training\n",
    "#9. Go to folder named research and then remove all the folders except Object Detection, Slim folders and set.py file.\n",
    "#!set base_dir = $pwd\n",
    "#!echo $base_dir\n",
    "cd ..\n",
    "pwd\n",
    "basedir=`pwd`\n",
    "echo $basedir\n",
    "#cd TF_obj_detection_original/models/research/\n",
    "pwd\n",
    "#rm  -f --verbose --recursive `!(\"./set.py\"|\"./object_detection/\"|\"./slim/\")`\n",
    "find ./TF_obj_detection_original/models/research/* -maxdepth 0 -type d -not \\( -name 'research' -name 'setup.py' -or  -name 'object_detection' -or -name 'slim' \\) -print0 | xargs -0  -I {} rm -r -v {}  #-delete"
   ]
  },
  {
   "cell_type": "code",
   "execution_count": null,
   "metadata": {},
   "outputs": [],
   "source": [
    "%lsmagic"
   ]
  },
  {
   "cell_type": "code",
   "execution_count": null,
   "metadata": {},
   "outputs": [],
   "source": [
    "%%bash\n",
    "#To train your own object detector, delete the following files (do not delete the folders):\n",
    "#1) All files in \\object_detection\\images\\train and \\object_detection\\images\\test\n",
    "#2) The “test_labels.csv” and “train_labels.csv” files in \\object_detection\\images\n",
    "#3) All files in \\object_detection\\training\n",
    "#4) All files in \\object_detection\\inference_graph\n",
    "cd ..\n",
    "rm -v ./TF_obj_detection_original/models/research/object_detection/images/train/*\n",
    "rm -v ./TF_obj_detection_original/models/research/object_detection/images/test/*\n",
    "rm -v ./TF_obj_detection_original/models/research/object_detection/images/*labels.csv\n",
    "rm -v ./TF_obj_detection_original/models/research/object_detection/training/*\n",
    "rm -v ./TF_obj_detection_original/models/research/object_detection/inference_graph/*\n"
   ]
  },
  {
   "cell_type": "raw",
   "metadata": {},
   "source": [
    "10. 1) (tensorflow1) C:\\>set PYTHONPATH= C:\\TF_obj_detection_original\\models; C:\\TF_obj_detection_original\\models\\research; C:\\TF_obj_detection_original \\models\\research\\slim\n",
    "2) (tensorflow1) C:\\>set PATH=%PATH%;PYTHONPATH"
   ]
  },
  {
   "cell_type": "code",
   "execution_count": null,
   "metadata": {},
   "outputs": [],
   "source": [
    "#TODOs"
   ]
  },
  {
   "cell_type": "raw",
   "metadata": {},
   "source": [
    "11. Compile the Protobuf files, which are used by TensorFlow to configure model and training parameters. Every .proto file in the \\object_detection\\protos directory must be called out individually by the command.\n",
    "I created C:\\TF_obj_detection_original\\models\\research\\object_detection\\protos\\proto.bat"
   ]
  },
  {
   "cell_type": "code",
   "execution_count": null,
   "metadata": {},
   "outputs": [],
   "source": [
    "#TODO"
   ]
  },
  {
   "cell_type": "raw",
   "metadata": {},
   "source": [
    "12. Run the following commands from C:\\tensorflow1\\models\\research directory\n",
    "    1. (tensorflow1) C:\\TF_obj_detection_original\\models\\research> python setup.py build\n",
    "    2. (tensorflow1) C:\\TF_obj_detection_original\\models\\research> python setup.py install"
   ]
  },
  {
   "cell_type": "code",
   "execution_count": null,
   "metadata": {},
   "outputs": [],
   "source": [
    "%%bash\n",
    "cd ..\n",
    "cd ./TF_obj_detection_original/models/research\n",
    "python setup.py build\n",
    "python setup.py install"
   ]
  },
  {
   "cell_type": "raw",
   "metadata": {},
   "source": [
    "13. Generate Training and Test Data\n",
    "Convert all the .xml files in both training and test folders into .csv files by using below command.\n",
    "(tensorflow1) C:\\TF_obj_detection_original\\models\\research\\object_detection> python xml_to_csv.py\n",
    "This creates a train_labels.csv and test_labels.csv file in the models\\research\\object_detection\\images directory."
   ]
  },
  {
   "cell_type": "code",
   "execution_count": null,
   "metadata": {},
   "outputs": [],
   "source": [
    "%%bash\n",
    "cd ..\n",
    "cd ./TF_obj_detection_original/models/research/object_detection\n",
    "python xml_to_csv.py"
   ]
  },
  {
   "cell_type": "raw",
   "metadata": {},
   "source": [
    "14. Generate .tf record\n",
    "Open the generate_tfrecord.py file from object_detection folder in a text editor. Replace the label map starting at line 31 with your own label map, where each object is assigned an ID number.\n",
    "Then, generate the TFRecord files by issuing these commands from the \\object_detection folder:\n",
    "    1. python generate_tfrecord.py — csv_input=imagestrain_labels.csv — image_dir=images\\train — output_path=train.record\n",
    "    2. python generate_tfrecord.py — csv_input=images\\test_labels.csv — image_dir=images\\test — output_path=test.record"
   ]
  },
  {
   "cell_type": "code",
   "execution_count": null,
   "metadata": {},
   "outputs": [],
   "source": [
    "%%bash\n",
    "cd ..\n",
    "cd ./TF_obj_detection_original/models/research/object_detection\n",
    "python generate_tfrecord.py --csv_input ./images/train_labels.csv --image_dir ./images/train --output_path train.record\n",
    "python generate_tfrecord.py --csv_input=./images/test_labels.csv --image_dir=./images/test --output_path=test.record"
   ]
  },
  {
   "cell_type": "raw",
   "metadata": {},
   "source": [
    "15. Create Label Map and Configure Training\n",
    "The label map tells the trainer what each object is by defining a mapping of class names to class ID numbers. Use a text editor to create a new file and save it as labelmap.pbtxt in C:\\TF_obj_detection_original\\models\\research\\object_detection\\training folder the file type should be .pbtxt"
   ]
  },
  {
   "cell_type": "code",
   "execution_count": 22,
   "metadata": {},
   "outputs": [],
   "source": [
    "%%bash\n",
    "cp ./labelmap.pbtxt ../TF_obj_detection_original/models/research/object_detection/training"
   ]
  },
  {
   "cell_type": "raw",
   "metadata": {},
   "source": [
    "16. Configure Training\n",
    "The object detection training pipeline should be configured. It defines which model and what parameters will be used for training. Navigate to C:\\TF_obj_detection_original\\models\\research\\object_detection\\samples\\configs and copy the faster_rcnn_inception_v2_pets.config file into the \\research \\object_detection\\training directory.\n",
    "Open faster_rcnn_inception_v2_pets.config file in a text editor. Make some necessary changes to the .config file, mainly changing the number of classes and examples, and adding the file paths to the training data.\n",
    "Make the following changes to the faster_rcnn_inception_v2_pets.config file.\n",
    "· Line 9. Change num_classes to the number of different objects you want the classifier to detect. For the above shirt, t-shirt and jeans detector, it would be num_classes: 3.\n",
    "· Line 106. Change fine_tune_checkpoint to:\n",
    "o fine_tune_checkpoint: “C:\\TF_obj_detection_original/models/research/object_detection/\n",
    "o faster_rcnn_inception_v2_coco_2018_01_28/model.ckpt”\n",
    "· Lines 123 and 125. In the train_input_reader section, change input_path and label_map_path to:\n",
    "o input_path: “C:\\TF_obj_detection_original/models/research/object_detection/train.record”\n",
    "o label_map_path: “C:\\TF_obj_detection_original/models/research/object_detection/training/labelmap.pbtxt”\n",
    "· Line 130. Change num_examples to the number of images you have in the \\images\\test directory.\n",
    "· Lines 135 and 137. In the eval_input_reader section, change input_path and label_map_path to:\n",
    "o input_path: “C:\\TF_obj_detection_original/models/research/object_detection/test.record”\n",
    "o label_map_path: “C:\\TF_obj_detection_original/models/research/object_detection/training/labelmap.pbtxt”\n",
    "Save the file after the changes have been made. The training job is all configured and ready to run.\n",
    "Model Training: In the \\object_detection path put the following command to begin the training.\n",
    "python train.py  --logtostderr — train_dir=training/ — pipeline_config_path=training/faster_rcnn_inception_v2_pets.config\n",
    "\n",
    "C:\\TF_obj_detection_original\\models\\research\\object_detection>tensorboard  --logdir=training\n",
    "\n",
    "\n",
    "To get result:\n",
    "python \"C:\\Users\\srastatu\\New folder\\SSD.py\"\n"
   ]
  },
  {
   "cell_type": "code",
   "execution_count": 24,
   "metadata": {},
   "outputs": [
    {
     "name": "stderr",
     "output_type": "stream",
     "text": [
      "python: can't open file 'train.py  --logtostderr --train_dir=training/ --pipeline_config_path=training/pipeline.config': [Errno 2] No such file or directory\n"
     ]
    },
    {
     "ename": "CalledProcessError",
     "evalue": "Command 'b'#TODO\\ncp ./pipeline.config ../TF_obj_detection_original/models/research/object_detection/training\\ncd ../TF_obj_detection_original/models/research/object_detection\\npython train.py\\xe2\\x80\\x8a\\xe2\\x80\\x8a--logtostderr\\xe2\\x80\\x8a--train_dir=training/\\xe2\\x80\\x8a--pipeline_config_path=training/pipeline.config\\n'' returned non-zero exit status 2.",
     "output_type": "error",
     "traceback": [
      "\u001b[0;31m---------------------------------------------------------------------------\u001b[0m",
      "\u001b[0;31mCalledProcessError\u001b[0m                        Traceback (most recent call last)",
      "\u001b[0;32m<ipython-input-24-3330263e22aa>\u001b[0m in \u001b[0;36m<module>\u001b[0;34m\u001b[0m\n\u001b[0;32m----> 1\u001b[0;31m \u001b[0mget_ipython\u001b[0m\u001b[0;34m(\u001b[0m\u001b[0;34m)\u001b[0m\u001b[0;34m.\u001b[0m\u001b[0mrun_cell_magic\u001b[0m\u001b[0;34m(\u001b[0m\u001b[0;34m'bash'\u001b[0m\u001b[0;34m,\u001b[0m \u001b[0;34m''\u001b[0m\u001b[0;34m,\u001b[0m \u001b[0;34m'#TODO\\ncp ./pipeline.config ../TF_obj_detection_original/models/research/object_detection/training\\ncd ../TF_obj_detection_original/models/research/object_detection\\npython train.py\\u200a\\u200a--logtostderr\\u200a--train_dir=training/\\u200a--pipeline_config_path=training/pipeline.config\\n'\u001b[0m\u001b[0;34m)\u001b[0m\u001b[0;34m\u001b[0m\u001b[0;34m\u001b[0m\u001b[0m\n\u001b[0m",
      "\u001b[0;32m/opt/conda/lib/python3.6/site-packages/IPython/core/interactiveshell.py\u001b[0m in \u001b[0;36mrun_cell_magic\u001b[0;34m(self, magic_name, line, cell)\u001b[0m\n\u001b[1;32m   2350\u001b[0m             \u001b[0;32mwith\u001b[0m \u001b[0mself\u001b[0m\u001b[0;34m.\u001b[0m\u001b[0mbuiltin_trap\u001b[0m\u001b[0;34m:\u001b[0m\u001b[0;34m\u001b[0m\u001b[0;34m\u001b[0m\u001b[0m\n\u001b[1;32m   2351\u001b[0m                 \u001b[0margs\u001b[0m \u001b[0;34m=\u001b[0m \u001b[0;34m(\u001b[0m\u001b[0mmagic_arg_s\u001b[0m\u001b[0;34m,\u001b[0m \u001b[0mcell\u001b[0m\u001b[0;34m)\u001b[0m\u001b[0;34m\u001b[0m\u001b[0;34m\u001b[0m\u001b[0m\n\u001b[0;32m-> 2352\u001b[0;31m                 \u001b[0mresult\u001b[0m \u001b[0;34m=\u001b[0m \u001b[0mfn\u001b[0m\u001b[0;34m(\u001b[0m\u001b[0;34m*\u001b[0m\u001b[0margs\u001b[0m\u001b[0;34m,\u001b[0m \u001b[0;34m**\u001b[0m\u001b[0mkwargs\u001b[0m\u001b[0;34m)\u001b[0m\u001b[0;34m\u001b[0m\u001b[0;34m\u001b[0m\u001b[0m\n\u001b[0m\u001b[1;32m   2353\u001b[0m             \u001b[0;32mreturn\u001b[0m \u001b[0mresult\u001b[0m\u001b[0;34m\u001b[0m\u001b[0;34m\u001b[0m\u001b[0m\n\u001b[1;32m   2354\u001b[0m \u001b[0;34m\u001b[0m\u001b[0m\n",
      "\u001b[0;32m/opt/conda/lib/python3.6/site-packages/IPython/core/magics/script.py\u001b[0m in \u001b[0;36mnamed_script_magic\u001b[0;34m(line, cell)\u001b[0m\n\u001b[1;32m    140\u001b[0m             \u001b[0;32melse\u001b[0m\u001b[0;34m:\u001b[0m\u001b[0;34m\u001b[0m\u001b[0;34m\u001b[0m\u001b[0m\n\u001b[1;32m    141\u001b[0m                 \u001b[0mline\u001b[0m \u001b[0;34m=\u001b[0m \u001b[0mscript\u001b[0m\u001b[0;34m\u001b[0m\u001b[0;34m\u001b[0m\u001b[0m\n\u001b[0;32m--> 142\u001b[0;31m             \u001b[0;32mreturn\u001b[0m \u001b[0mself\u001b[0m\u001b[0;34m.\u001b[0m\u001b[0mshebang\u001b[0m\u001b[0;34m(\u001b[0m\u001b[0mline\u001b[0m\u001b[0;34m,\u001b[0m \u001b[0mcell\u001b[0m\u001b[0;34m)\u001b[0m\u001b[0;34m\u001b[0m\u001b[0;34m\u001b[0m\u001b[0m\n\u001b[0m\u001b[1;32m    143\u001b[0m \u001b[0;34m\u001b[0m\u001b[0m\n\u001b[1;32m    144\u001b[0m         \u001b[0;31m# write a basic docstring:\u001b[0m\u001b[0;34m\u001b[0m\u001b[0;34m\u001b[0m\u001b[0;34m\u001b[0m\u001b[0m\n",
      "\u001b[0;32m</opt/conda/lib/python3.6/site-packages/decorator.py:decorator-gen-110>\u001b[0m in \u001b[0;36mshebang\u001b[0;34m(self, line, cell)\u001b[0m\n",
      "\u001b[0;32m/opt/conda/lib/python3.6/site-packages/IPython/core/magic.py\u001b[0m in \u001b[0;36m<lambda>\u001b[0;34m(f, *a, **k)\u001b[0m\n\u001b[1;32m    185\u001b[0m     \u001b[0;31m# but it's overkill for just that one bit of state.\u001b[0m\u001b[0;34m\u001b[0m\u001b[0;34m\u001b[0m\u001b[0;34m\u001b[0m\u001b[0m\n\u001b[1;32m    186\u001b[0m     \u001b[0;32mdef\u001b[0m \u001b[0mmagic_deco\u001b[0m\u001b[0;34m(\u001b[0m\u001b[0marg\u001b[0m\u001b[0;34m)\u001b[0m\u001b[0;34m:\u001b[0m\u001b[0;34m\u001b[0m\u001b[0;34m\u001b[0m\u001b[0m\n\u001b[0;32m--> 187\u001b[0;31m         \u001b[0mcall\u001b[0m \u001b[0;34m=\u001b[0m \u001b[0;32mlambda\u001b[0m \u001b[0mf\u001b[0m\u001b[0;34m,\u001b[0m \u001b[0;34m*\u001b[0m\u001b[0ma\u001b[0m\u001b[0;34m,\u001b[0m \u001b[0;34m**\u001b[0m\u001b[0mk\u001b[0m\u001b[0;34m:\u001b[0m \u001b[0mf\u001b[0m\u001b[0;34m(\u001b[0m\u001b[0;34m*\u001b[0m\u001b[0ma\u001b[0m\u001b[0;34m,\u001b[0m \u001b[0;34m**\u001b[0m\u001b[0mk\u001b[0m\u001b[0;34m)\u001b[0m\u001b[0;34m\u001b[0m\u001b[0;34m\u001b[0m\u001b[0m\n\u001b[0m\u001b[1;32m    188\u001b[0m \u001b[0;34m\u001b[0m\u001b[0m\n\u001b[1;32m    189\u001b[0m         \u001b[0;32mif\u001b[0m \u001b[0mcallable\u001b[0m\u001b[0;34m(\u001b[0m\u001b[0marg\u001b[0m\u001b[0;34m)\u001b[0m\u001b[0;34m:\u001b[0m\u001b[0;34m\u001b[0m\u001b[0;34m\u001b[0m\u001b[0m\n",
      "\u001b[0;32m/opt/conda/lib/python3.6/site-packages/IPython/core/magics/script.py\u001b[0m in \u001b[0;36mshebang\u001b[0;34m(self, line, cell)\u001b[0m\n\u001b[1;32m    243\u001b[0m             \u001b[0msys\u001b[0m\u001b[0;34m.\u001b[0m\u001b[0mstderr\u001b[0m\u001b[0;34m.\u001b[0m\u001b[0mflush\u001b[0m\u001b[0;34m(\u001b[0m\u001b[0;34m)\u001b[0m\u001b[0;34m\u001b[0m\u001b[0;34m\u001b[0m\u001b[0m\n\u001b[1;32m    244\u001b[0m         \u001b[0;32mif\u001b[0m \u001b[0margs\u001b[0m\u001b[0;34m.\u001b[0m\u001b[0mraise_error\u001b[0m \u001b[0;32mand\u001b[0m \u001b[0mp\u001b[0m\u001b[0;34m.\u001b[0m\u001b[0mreturncode\u001b[0m\u001b[0;34m!=\u001b[0m\u001b[0;36m0\u001b[0m\u001b[0;34m:\u001b[0m\u001b[0;34m\u001b[0m\u001b[0;34m\u001b[0m\u001b[0m\n\u001b[0;32m--> 245\u001b[0;31m             \u001b[0;32mraise\u001b[0m \u001b[0mCalledProcessError\u001b[0m\u001b[0;34m(\u001b[0m\u001b[0mp\u001b[0m\u001b[0;34m.\u001b[0m\u001b[0mreturncode\u001b[0m\u001b[0;34m,\u001b[0m \u001b[0mcell\u001b[0m\u001b[0;34m,\u001b[0m \u001b[0moutput\u001b[0m\u001b[0;34m=\u001b[0m\u001b[0mout\u001b[0m\u001b[0;34m,\u001b[0m \u001b[0mstderr\u001b[0m\u001b[0;34m=\u001b[0m\u001b[0merr\u001b[0m\u001b[0;34m)\u001b[0m\u001b[0;34m\u001b[0m\u001b[0;34m\u001b[0m\u001b[0m\n\u001b[0m\u001b[1;32m    246\u001b[0m \u001b[0;34m\u001b[0m\u001b[0m\n\u001b[1;32m    247\u001b[0m     \u001b[0;32mdef\u001b[0m \u001b[0m_run_script\u001b[0m\u001b[0;34m(\u001b[0m\u001b[0mself\u001b[0m\u001b[0;34m,\u001b[0m \u001b[0mp\u001b[0m\u001b[0;34m,\u001b[0m \u001b[0mcell\u001b[0m\u001b[0;34m,\u001b[0m \u001b[0mto_close\u001b[0m\u001b[0;34m)\u001b[0m\u001b[0;34m:\u001b[0m\u001b[0;34m\u001b[0m\u001b[0;34m\u001b[0m\u001b[0m\n",
      "\u001b[0;31mCalledProcessError\u001b[0m: Command 'b'#TODO\\ncp ./pipeline.config ../TF_obj_detection_original/models/research/object_detection/training\\ncd ../TF_obj_detection_original/models/research/object_detection\\npython train.py\\xe2\\x80\\x8a\\xe2\\x80\\x8a--logtostderr\\xe2\\x80\\x8a--train_dir=training/\\xe2\\x80\\x8a--pipeline_config_path=training/pipeline.config\\n'' returned non-zero exit status 2."
     ]
    }
   ],
   "source": [
    "%%bash\n",
    "#TODO\n",
    "cp ./pipeline.config ../TF_obj_detection_original/models/research/object_detection/training\n",
    "cd ../TF_obj_detection_original/models/research/object_detection\n",
    "python train.py  --logtostderr --train_dir=training/ --pipeline_config_path=training/pipeline.config\n"
   ]
  },
  {
   "cell_type": "code",
   "execution_count": null,
   "metadata": {},
   "outputs": [],
   "source": []
  }
 ],
 "metadata": {
  "kernelspec": {
   "display_name": "Python 3",
   "language": "python",
   "name": "python3"
  },
  "language_info": {
   "codemirror_mode": {
    "name": "ipython",
    "version": 3
   },
   "file_extension": ".py",
   "mimetype": "text/x-python",
   "name": "python",
   "nbconvert_exporter": "python",
   "pygments_lexer": "ipython3",
   "version": "3.6.7"
  }
 },
 "nbformat": 4,
 "nbformat_minor": 4
}
